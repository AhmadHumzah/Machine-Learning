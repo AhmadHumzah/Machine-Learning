{
 "cells": [
  {
   "cell_type": "code",
   "execution_count": 1,
   "id": "36adb223-24ad-4af1-ba01-cc4f0d6789be",
   "metadata": {},
   "outputs": [],
   "source": [
    "# Get Data Set From Here"
   ]
  },
  {
   "cell_type": "code",
   "execution_count": 2,
   "id": "f40177e7-7d78-4263-98bc-b06d55803e8a",
   "metadata": {},
   "outputs": [],
   "source": [
    "import pandas as pd\n",
    "import numpy as np\n",
    "import matplotlib.pyplot as plt\n",
    "import seaborn as sns\n",
    "%matplotlib inline"
   ]
  },
  {
   "cell_type": "code",
   "execution_count": 5,
   "id": "05954acd-ef78-4d21-bbe1-a9f378884788",
   "metadata": {},
   "outputs": [],
   "source": [
    "# Read  Honey Production Data Set\n",
    "\n",
    "hp = pd.read_csv(r'C:/Users/Ahmad Humzah/python/Class DATA/honeyproduction.csv')"
   ]
  },
  {
   "cell_type": "code",
   "execution_count": 6,
   "id": "a19a5661-cb76-4d6d-b3ef-b90d33267445",
   "metadata": {},
   "outputs": [
    {
     "data": {
      "text/plain": [
       "(626, 8)"
      ]
     },
     "execution_count": 6,
     "metadata": {},
     "output_type": "execute_result"
    }
   ],
   "source": [
    "hp.shape"
   ]
  },
  {
   "cell_type": "code",
   "execution_count": 7,
   "id": "08fbb74c-cf2f-4010-8c7f-32dcd7d76a21",
   "metadata": {},
   "outputs": [
    {
     "data": {
      "text/html": [
       "<div>\n",
       "<style scoped>\n",
       "    .dataframe tbody tr th:only-of-type {\n",
       "        vertical-align: middle;\n",
       "    }\n",
       "\n",
       "    .dataframe tbody tr th {\n",
       "        vertical-align: top;\n",
       "    }\n",
       "\n",
       "    .dataframe thead th {\n",
       "        text-align: right;\n",
       "    }\n",
       "</style>\n",
       "<table border=\"1\" class=\"dataframe\">\n",
       "  <thead>\n",
       "    <tr style=\"text-align: right;\">\n",
       "      <th></th>\n",
       "      <th>state</th>\n",
       "      <th>numcol</th>\n",
       "      <th>yieldpercol</th>\n",
       "      <th>totalprod</th>\n",
       "      <th>stocks</th>\n",
       "      <th>priceperlb</th>\n",
       "      <th>prodvalue</th>\n",
       "      <th>year</th>\n",
       "    </tr>\n",
       "  </thead>\n",
       "  <tbody>\n",
       "    <tr>\n",
       "      <th>0</th>\n",
       "      <td>AL</td>\n",
       "      <td>16000.0</td>\n",
       "      <td>71</td>\n",
       "      <td>1136000.0</td>\n",
       "      <td>159000.0</td>\n",
       "      <td>0.72</td>\n",
       "      <td>818000.0</td>\n",
       "      <td>1998</td>\n",
       "    </tr>\n",
       "    <tr>\n",
       "      <th>1</th>\n",
       "      <td>AZ</td>\n",
       "      <td>55000.0</td>\n",
       "      <td>60</td>\n",
       "      <td>3300000.0</td>\n",
       "      <td>1485000.0</td>\n",
       "      <td>0.64</td>\n",
       "      <td>2112000.0</td>\n",
       "      <td>1998</td>\n",
       "    </tr>\n",
       "    <tr>\n",
       "      <th>2</th>\n",
       "      <td>AR</td>\n",
       "      <td>53000.0</td>\n",
       "      <td>65</td>\n",
       "      <td>3445000.0</td>\n",
       "      <td>1688000.0</td>\n",
       "      <td>0.59</td>\n",
       "      <td>2033000.0</td>\n",
       "      <td>1998</td>\n",
       "    </tr>\n",
       "    <tr>\n",
       "      <th>3</th>\n",
       "      <td>CA</td>\n",
       "      <td>450000.0</td>\n",
       "      <td>83</td>\n",
       "      <td>37350000.0</td>\n",
       "      <td>12326000.0</td>\n",
       "      <td>0.62</td>\n",
       "      <td>23157000.0</td>\n",
       "      <td>1998</td>\n",
       "    </tr>\n",
       "    <tr>\n",
       "      <th>4</th>\n",
       "      <td>CO</td>\n",
       "      <td>27000.0</td>\n",
       "      <td>72</td>\n",
       "      <td>1944000.0</td>\n",
       "      <td>1594000.0</td>\n",
       "      <td>0.70</td>\n",
       "      <td>1361000.0</td>\n",
       "      <td>1998</td>\n",
       "    </tr>\n",
       "  </tbody>\n",
       "</table>\n",
       "</div>"
      ],
      "text/plain": [
       "  state    numcol  yieldpercol   totalprod      stocks  priceperlb  \\\n",
       "0    AL   16000.0           71   1136000.0    159000.0        0.72   \n",
       "1    AZ   55000.0           60   3300000.0   1485000.0        0.64   \n",
       "2    AR   53000.0           65   3445000.0   1688000.0        0.59   \n",
       "3    CA  450000.0           83  37350000.0  12326000.0        0.62   \n",
       "4    CO   27000.0           72   1944000.0   1594000.0        0.70   \n",
       "\n",
       "    prodvalue  year  \n",
       "0    818000.0  1998  \n",
       "1   2112000.0  1998  \n",
       "2   2033000.0  1998  \n",
       "3  23157000.0  1998  \n",
       "4   1361000.0  1998  "
      ]
     },
     "execution_count": 7,
     "metadata": {},
     "output_type": "execute_result"
    }
   ],
   "source": [
    "hp.head()"
   ]
  },
  {
   "cell_type": "code",
   "execution_count": 8,
   "id": "ad368b63-a9c3-4209-891d-1286cada1b30",
   "metadata": {},
   "outputs": [
    {
     "data": {
      "text/html": [
       "<div>\n",
       "<style scoped>\n",
       "    .dataframe tbody tr th:only-of-type {\n",
       "        vertical-align: middle;\n",
       "    }\n",
       "\n",
       "    .dataframe tbody tr th {\n",
       "        vertical-align: top;\n",
       "    }\n",
       "\n",
       "    .dataframe thead th {\n",
       "        text-align: right;\n",
       "    }\n",
       "</style>\n",
       "<table border=\"1\" class=\"dataframe\">\n",
       "  <thead>\n",
       "    <tr style=\"text-align: right;\">\n",
       "      <th></th>\n",
       "      <th>state</th>\n",
       "      <th>numcol</th>\n",
       "      <th>yieldpercol</th>\n",
       "      <th>totalprod</th>\n",
       "      <th>stocks</th>\n",
       "      <th>priceperlb</th>\n",
       "      <th>prodvalue</th>\n",
       "      <th>year</th>\n",
       "    </tr>\n",
       "  </thead>\n",
       "  <tbody>\n",
       "    <tr>\n",
       "      <th>621</th>\n",
       "      <td>VA</td>\n",
       "      <td>4000.0</td>\n",
       "      <td>41</td>\n",
       "      <td>164000.0</td>\n",
       "      <td>23000.0</td>\n",
       "      <td>3.77</td>\n",
       "      <td>618000.0</td>\n",
       "      <td>2012</td>\n",
       "    </tr>\n",
       "    <tr>\n",
       "      <th>622</th>\n",
       "      <td>WA</td>\n",
       "      <td>62000.0</td>\n",
       "      <td>41</td>\n",
       "      <td>2542000.0</td>\n",
       "      <td>1017000.0</td>\n",
       "      <td>2.38</td>\n",
       "      <td>6050000.0</td>\n",
       "      <td>2012</td>\n",
       "    </tr>\n",
       "    <tr>\n",
       "      <th>623</th>\n",
       "      <td>WV</td>\n",
       "      <td>6000.0</td>\n",
       "      <td>48</td>\n",
       "      <td>288000.0</td>\n",
       "      <td>95000.0</td>\n",
       "      <td>2.91</td>\n",
       "      <td>838000.0</td>\n",
       "      <td>2012</td>\n",
       "    </tr>\n",
       "    <tr>\n",
       "      <th>624</th>\n",
       "      <td>WI</td>\n",
       "      <td>60000.0</td>\n",
       "      <td>69</td>\n",
       "      <td>4140000.0</td>\n",
       "      <td>1863000.0</td>\n",
       "      <td>2.05</td>\n",
       "      <td>8487000.0</td>\n",
       "      <td>2012</td>\n",
       "    </tr>\n",
       "    <tr>\n",
       "      <th>625</th>\n",
       "      <td>WY</td>\n",
       "      <td>50000.0</td>\n",
       "      <td>51</td>\n",
       "      <td>2550000.0</td>\n",
       "      <td>459000.0</td>\n",
       "      <td>1.87</td>\n",
       "      <td>4769000.0</td>\n",
       "      <td>2012</td>\n",
       "    </tr>\n",
       "  </tbody>\n",
       "</table>\n",
       "</div>"
      ],
      "text/plain": [
       "    state   numcol  yieldpercol  totalprod     stocks  priceperlb  prodvalue  \\\n",
       "621    VA   4000.0           41   164000.0    23000.0        3.77   618000.0   \n",
       "622    WA  62000.0           41  2542000.0  1017000.0        2.38  6050000.0   \n",
       "623    WV   6000.0           48   288000.0    95000.0        2.91   838000.0   \n",
       "624    WI  60000.0           69  4140000.0  1863000.0        2.05  8487000.0   \n",
       "625    WY  50000.0           51  2550000.0   459000.0        1.87  4769000.0   \n",
       "\n",
       "     year  \n",
       "621  2012  \n",
       "622  2012  \n",
       "623  2012  \n",
       "624  2012  \n",
       "625  2012  "
      ]
     },
     "execution_count": 8,
     "metadata": {},
     "output_type": "execute_result"
    }
   ],
   "source": [
    "hp.tail()"
   ]
  },
  {
   "cell_type": "code",
   "execution_count": 9,
   "id": "75f8cab8-9ecb-4515-b308-94285b793739",
   "metadata": {},
   "outputs": [
    {
     "data": {
      "text/html": [
       "<div>\n",
       "<style scoped>\n",
       "    .dataframe tbody tr th:only-of-type {\n",
       "        vertical-align: middle;\n",
       "    }\n",
       "\n",
       "    .dataframe tbody tr th {\n",
       "        vertical-align: top;\n",
       "    }\n",
       "\n",
       "    .dataframe thead th {\n",
       "        text-align: right;\n",
       "    }\n",
       "</style>\n",
       "<table border=\"1\" class=\"dataframe\">\n",
       "  <thead>\n",
       "    <tr style=\"text-align: right;\">\n",
       "      <th></th>\n",
       "      <th>count</th>\n",
       "      <th>mean</th>\n",
       "      <th>std</th>\n",
       "      <th>min</th>\n",
       "      <th>25%</th>\n",
       "      <th>50%</th>\n",
       "      <th>75%</th>\n",
       "      <th>max</th>\n",
       "    </tr>\n",
       "  </thead>\n",
       "  <tbody>\n",
       "    <tr>\n",
       "      <th>numcol</th>\n",
       "      <td>626.0</td>\n",
       "      <td>6.028435e+04</td>\n",
       "      <td>9.107709e+04</td>\n",
       "      <td>2000.00</td>\n",
       "      <td>9000.0000</td>\n",
       "      <td>26000.00</td>\n",
       "      <td>63750.00</td>\n",
       "      <td>510000.00</td>\n",
       "    </tr>\n",
       "    <tr>\n",
       "      <th>yieldpercol</th>\n",
       "      <td>626.0</td>\n",
       "      <td>6.200958e+01</td>\n",
       "      <td>1.945875e+01</td>\n",
       "      <td>19.00</td>\n",
       "      <td>48.0000</td>\n",
       "      <td>60.00</td>\n",
       "      <td>74.00</td>\n",
       "      <td>136.00</td>\n",
       "    </tr>\n",
       "    <tr>\n",
       "      <th>totalprod</th>\n",
       "      <td>626.0</td>\n",
       "      <td>4.169086e+06</td>\n",
       "      <td>6.883847e+06</td>\n",
       "      <td>84000.00</td>\n",
       "      <td>475000.0000</td>\n",
       "      <td>1533000.00</td>\n",
       "      <td>4175250.00</td>\n",
       "      <td>46410000.00</td>\n",
       "    </tr>\n",
       "    <tr>\n",
       "      <th>stocks</th>\n",
       "      <td>626.0</td>\n",
       "      <td>1.318859e+06</td>\n",
       "      <td>2.272964e+06</td>\n",
       "      <td>8000.00</td>\n",
       "      <td>143000.0000</td>\n",
       "      <td>439500.00</td>\n",
       "      <td>1489500.00</td>\n",
       "      <td>13800000.00</td>\n",
       "    </tr>\n",
       "    <tr>\n",
       "      <th>priceperlb</th>\n",
       "      <td>626.0</td>\n",
       "      <td>1.409569e+00</td>\n",
       "      <td>6.385989e-01</td>\n",
       "      <td>0.49</td>\n",
       "      <td>0.9325</td>\n",
       "      <td>1.36</td>\n",
       "      <td>1.68</td>\n",
       "      <td>4.15</td>\n",
       "    </tr>\n",
       "    <tr>\n",
       "      <th>prodvalue</th>\n",
       "      <td>626.0</td>\n",
       "      <td>4.715741e+06</td>\n",
       "      <td>7.976110e+06</td>\n",
       "      <td>162000.00</td>\n",
       "      <td>759250.0000</td>\n",
       "      <td>1841500.00</td>\n",
       "      <td>4703250.00</td>\n",
       "      <td>69615000.00</td>\n",
       "    </tr>\n",
       "    <tr>\n",
       "      <th>year</th>\n",
       "      <td>626.0</td>\n",
       "      <td>2.004864e+03</td>\n",
       "      <td>4.317306e+00</td>\n",
       "      <td>1998.00</td>\n",
       "      <td>2001.0000</td>\n",
       "      <td>2005.00</td>\n",
       "      <td>2009.00</td>\n",
       "      <td>2012.00</td>\n",
       "    </tr>\n",
       "  </tbody>\n",
       "</table>\n",
       "</div>"
      ],
      "text/plain": [
       "             count          mean           std        min          25%  \\\n",
       "numcol       626.0  6.028435e+04  9.107709e+04    2000.00    9000.0000   \n",
       "yieldpercol  626.0  6.200958e+01  1.945875e+01      19.00      48.0000   \n",
       "totalprod    626.0  4.169086e+06  6.883847e+06   84000.00  475000.0000   \n",
       "stocks       626.0  1.318859e+06  2.272964e+06    8000.00  143000.0000   \n",
       "priceperlb   626.0  1.409569e+00  6.385989e-01       0.49       0.9325   \n",
       "prodvalue    626.0  4.715741e+06  7.976110e+06  162000.00  759250.0000   \n",
       "year         626.0  2.004864e+03  4.317306e+00    1998.00    2001.0000   \n",
       "\n",
       "                    50%         75%          max  \n",
       "numcol         26000.00    63750.00    510000.00  \n",
       "yieldpercol       60.00       74.00       136.00  \n",
       "totalprod    1533000.00  4175250.00  46410000.00  \n",
       "stocks        439500.00  1489500.00  13800000.00  \n",
       "priceperlb         1.36        1.68         4.15  \n",
       "prodvalue    1841500.00  4703250.00  69615000.00  \n",
       "year            2005.00     2009.00      2012.00  "
      ]
     },
     "execution_count": 9,
     "metadata": {},
     "output_type": "execute_result"
    }
   ],
   "source": [
    "# summerise hp dataset\n",
    "hp.describe().transpose()"
   ]
  },
  {
   "cell_type": "code",
   "execution_count": 11,
   "id": "ee0bbd85-7815-44aa-bee7-efd0a4fa2460",
   "metadata": {},
   "outputs": [
    {
     "data": {
      "text/html": [
       "<div>\n",
       "<style scoped>\n",
       "    .dataframe tbody tr th:only-of-type {\n",
       "        vertical-align: middle;\n",
       "    }\n",
       "\n",
       "    .dataframe tbody tr th {\n",
       "        vertical-align: top;\n",
       "    }\n",
       "\n",
       "    .dataframe thead th {\n",
       "        text-align: right;\n",
       "    }\n",
       "</style>\n",
       "<table border=\"1\" class=\"dataframe\">\n",
       "  <thead>\n",
       "    <tr style=\"text-align: right;\">\n",
       "      <th></th>\n",
       "      <th>numcol</th>\n",
       "      <th>totalprod</th>\n",
       "      <th>yieldpercol</th>\n",
       "      <th>stocks</th>\n",
       "      <th>prodvalue</th>\n",
       "    </tr>\n",
       "    <tr>\n",
       "      <th>year</th>\n",
       "      <th></th>\n",
       "      <th></th>\n",
       "      <th></th>\n",
       "      <th></th>\n",
       "      <th></th>\n",
       "    </tr>\n",
       "  </thead>\n",
       "  <tbody>\n",
       "    <tr>\n",
       "      <th>1998</th>\n",
       "      <td>2621000.0</td>\n",
       "      <td>219519000.0</td>\n",
       "      <td>3008</td>\n",
       "      <td>80565000.0</td>\n",
       "      <td>146091000.0</td>\n",
       "    </tr>\n",
       "    <tr>\n",
       "      <th>1999</th>\n",
       "      <td>2637000.0</td>\n",
       "      <td>202387000.0</td>\n",
       "      <td>2815</td>\n",
       "      <td>78390000.0</td>\n",
       "      <td>123657000.0</td>\n",
       "    </tr>\n",
       "    <tr>\n",
       "      <th>2000</th>\n",
       "      <td>2604000.0</td>\n",
       "      <td>219558000.0</td>\n",
       "      <td>2906</td>\n",
       "      <td>84956000.0</td>\n",
       "      <td>131568000.0</td>\n",
       "    </tr>\n",
       "    <tr>\n",
       "      <th>2001</th>\n",
       "      <td>2542000.0</td>\n",
       "      <td>185748000.0</td>\n",
       "      <td>2840</td>\n",
       "      <td>64764000.0</td>\n",
       "      <td>132282000.0</td>\n",
       "    </tr>\n",
       "    <tr>\n",
       "      <th>2002</th>\n",
       "      <td>2565000.0</td>\n",
       "      <td>171265000.0</td>\n",
       "      <td>2939</td>\n",
       "      <td>39177000.0</td>\n",
       "      <td>227302000.0</td>\n",
       "    </tr>\n",
       "  </tbody>\n",
       "</table>\n",
       "</div>"
      ],
      "text/plain": [
       "         numcol    totalprod  yieldpercol      stocks    prodvalue\n",
       "year                                                              \n",
       "1998  2621000.0  219519000.0         3008  80565000.0  146091000.0\n",
       "1999  2637000.0  202387000.0         2815  78390000.0  123657000.0\n",
       "2000  2604000.0  219558000.0         2906  84956000.0  131568000.0\n",
       "2001  2542000.0  185748000.0         2840  64764000.0  132282000.0\n",
       "2002  2565000.0  171265000.0         2939  39177000.0  227302000.0"
      ]
     },
     "execution_count": 11,
     "metadata": {},
     "output_type": "execute_result"
    }
   ],
   "source": [
    "# Creating summery table to understand the trend using year variable\n",
    "hp_year = hp[['numcol','totalprod','year','yieldpercol','stocks','prodvalue']].groupby('year').sum()\n",
    "# .groupby('year').sum()\n",
    "hp_year.head()"
   ]
  },
  {
   "cell_type": "code",
   "execution_count": 12,
   "id": "8d3523cd-9c91-43c6-aff7-e8c0bd8aa0ba",
   "metadata": {},
   "outputs": [
    {
     "data": {
      "text/html": [
       "<div>\n",
       "<style scoped>\n",
       "    .dataframe tbody tr th:only-of-type {\n",
       "        vertical-align: middle;\n",
       "    }\n",
       "\n",
       "    .dataframe tbody tr th {\n",
       "        vertical-align: top;\n",
       "    }\n",
       "\n",
       "    .dataframe thead th {\n",
       "        text-align: right;\n",
       "    }\n",
       "</style>\n",
       "<table border=\"1\" class=\"dataframe\">\n",
       "  <thead>\n",
       "    <tr style=\"text-align: right;\">\n",
       "      <th></th>\n",
       "      <th>year</th>\n",
       "      <th>numcol</th>\n",
       "      <th>totalprod</th>\n",
       "      <th>yieldpercol</th>\n",
       "      <th>stocks</th>\n",
       "      <th>prodvalue</th>\n",
       "    </tr>\n",
       "  </thead>\n",
       "  <tbody>\n",
       "    <tr>\n",
       "      <th>0</th>\n",
       "      <td>1998</td>\n",
       "      <td>2621000.0</td>\n",
       "      <td>219519000.0</td>\n",
       "      <td>3008</td>\n",
       "      <td>80565000.0</td>\n",
       "      <td>146091000.0</td>\n",
       "    </tr>\n",
       "    <tr>\n",
       "      <th>1</th>\n",
       "      <td>1999</td>\n",
       "      <td>2637000.0</td>\n",
       "      <td>202387000.0</td>\n",
       "      <td>2815</td>\n",
       "      <td>78390000.0</td>\n",
       "      <td>123657000.0</td>\n",
       "    </tr>\n",
       "    <tr>\n",
       "      <th>2</th>\n",
       "      <td>2000</td>\n",
       "      <td>2604000.0</td>\n",
       "      <td>219558000.0</td>\n",
       "      <td>2906</td>\n",
       "      <td>84956000.0</td>\n",
       "      <td>131568000.0</td>\n",
       "    </tr>\n",
       "    <tr>\n",
       "      <th>3</th>\n",
       "      <td>2001</td>\n",
       "      <td>2542000.0</td>\n",
       "      <td>185748000.0</td>\n",
       "      <td>2840</td>\n",
       "      <td>64764000.0</td>\n",
       "      <td>132282000.0</td>\n",
       "    </tr>\n",
       "    <tr>\n",
       "      <th>4</th>\n",
       "      <td>2002</td>\n",
       "      <td>2565000.0</td>\n",
       "      <td>171265000.0</td>\n",
       "      <td>2939</td>\n",
       "      <td>39177000.0</td>\n",
       "      <td>227302000.0</td>\n",
       "    </tr>\n",
       "  </tbody>\n",
       "</table>\n",
       "</div>"
      ],
      "text/plain": [
       "   year     numcol    totalprod  yieldpercol      stocks    prodvalue\n",
       "0  1998  2621000.0  219519000.0         3008  80565000.0  146091000.0\n",
       "1  1999  2637000.0  202387000.0         2815  78390000.0  123657000.0\n",
       "2  2000  2604000.0  219558000.0         2906  84956000.0  131568000.0\n",
       "3  2001  2542000.0  185748000.0         2840  64764000.0  132282000.0\n",
       "4  2002  2565000.0  171265000.0         2939  39177000.0  227302000.0"
      ]
     },
     "execution_count": 12,
     "metadata": {},
     "output_type": "execute_result"
    }
   ],
   "source": [
    "# Resetting index value\n",
    "hp_year.reset_index(level=0,inplace=True)\n",
    "hp_year.head()"
   ]
  },
  {
   "cell_type": "code",
   "execution_count": 13,
   "id": "497a9ef5-30a0-4666-a353-c7af836faf23",
   "metadata": {},
   "outputs": [
    {
     "data": {
      "text/html": [
       "<div>\n",
       "<style scoped>\n",
       "    .dataframe tbody tr th:only-of-type {\n",
       "        vertical-align: middle;\n",
       "    }\n",
       "\n",
       "    .dataframe tbody tr th {\n",
       "        vertical-align: top;\n",
       "    }\n",
       "\n",
       "    .dataframe thead th {\n",
       "        text-align: right;\n",
       "    }\n",
       "</style>\n",
       "<table border=\"1\" class=\"dataframe\">\n",
       "  <thead>\n",
       "    <tr style=\"text-align: right;\">\n",
       "      <th></th>\n",
       "      <th>state</th>\n",
       "      <th>numcol</th>\n",
       "      <th>yieldpercol</th>\n",
       "      <th>totalprod</th>\n",
       "      <th>stocks</th>\n",
       "      <th>priceperlb</th>\n",
       "      <th>prodvalue</th>\n",
       "      <th>year</th>\n",
       "    </tr>\n",
       "  </thead>\n",
       "  <tbody>\n",
       "    <tr>\n",
       "      <th>0</th>\n",
       "      <td>AL</td>\n",
       "      <td>16000.0</td>\n",
       "      <td>71</td>\n",
       "      <td>1136000.0</td>\n",
       "      <td>159000.0</td>\n",
       "      <td>0.72</td>\n",
       "      <td>818000.0</td>\n",
       "      <td>1998</td>\n",
       "    </tr>\n",
       "    <tr>\n",
       "      <th>1</th>\n",
       "      <td>AZ</td>\n",
       "      <td>55000.0</td>\n",
       "      <td>60</td>\n",
       "      <td>3300000.0</td>\n",
       "      <td>1485000.0</td>\n",
       "      <td>0.64</td>\n",
       "      <td>2112000.0</td>\n",
       "      <td>1998</td>\n",
       "    </tr>\n",
       "    <tr>\n",
       "      <th>2</th>\n",
       "      <td>AR</td>\n",
       "      <td>53000.0</td>\n",
       "      <td>65</td>\n",
       "      <td>3445000.0</td>\n",
       "      <td>1688000.0</td>\n",
       "      <td>0.59</td>\n",
       "      <td>2033000.0</td>\n",
       "      <td>1998</td>\n",
       "    </tr>\n",
       "    <tr>\n",
       "      <th>3</th>\n",
       "      <td>CA</td>\n",
       "      <td>450000.0</td>\n",
       "      <td>83</td>\n",
       "      <td>37350000.0</td>\n",
       "      <td>12326000.0</td>\n",
       "      <td>0.62</td>\n",
       "      <td>23157000.0</td>\n",
       "      <td>1998</td>\n",
       "    </tr>\n",
       "    <tr>\n",
       "      <th>4</th>\n",
       "      <td>CO</td>\n",
       "      <td>27000.0</td>\n",
       "      <td>72</td>\n",
       "      <td>1944000.0</td>\n",
       "      <td>1594000.0</td>\n",
       "      <td>0.70</td>\n",
       "      <td>1361000.0</td>\n",
       "      <td>1998</td>\n",
       "    </tr>\n",
       "    <tr>\n",
       "      <th>...</th>\n",
       "      <td>...</td>\n",
       "      <td>...</td>\n",
       "      <td>...</td>\n",
       "      <td>...</td>\n",
       "      <td>...</td>\n",
       "      <td>...</td>\n",
       "      <td>...</td>\n",
       "      <td>...</td>\n",
       "    </tr>\n",
       "    <tr>\n",
       "      <th>621</th>\n",
       "      <td>VA</td>\n",
       "      <td>4000.0</td>\n",
       "      <td>41</td>\n",
       "      <td>164000.0</td>\n",
       "      <td>23000.0</td>\n",
       "      <td>3.77</td>\n",
       "      <td>618000.0</td>\n",
       "      <td>2012</td>\n",
       "    </tr>\n",
       "    <tr>\n",
       "      <th>622</th>\n",
       "      <td>WA</td>\n",
       "      <td>62000.0</td>\n",
       "      <td>41</td>\n",
       "      <td>2542000.0</td>\n",
       "      <td>1017000.0</td>\n",
       "      <td>2.38</td>\n",
       "      <td>6050000.0</td>\n",
       "      <td>2012</td>\n",
       "    </tr>\n",
       "    <tr>\n",
       "      <th>623</th>\n",
       "      <td>WV</td>\n",
       "      <td>6000.0</td>\n",
       "      <td>48</td>\n",
       "      <td>288000.0</td>\n",
       "      <td>95000.0</td>\n",
       "      <td>2.91</td>\n",
       "      <td>838000.0</td>\n",
       "      <td>2012</td>\n",
       "    </tr>\n",
       "    <tr>\n",
       "      <th>624</th>\n",
       "      <td>WI</td>\n",
       "      <td>60000.0</td>\n",
       "      <td>69</td>\n",
       "      <td>4140000.0</td>\n",
       "      <td>1863000.0</td>\n",
       "      <td>2.05</td>\n",
       "      <td>8487000.0</td>\n",
       "      <td>2012</td>\n",
       "    </tr>\n",
       "    <tr>\n",
       "      <th>625</th>\n",
       "      <td>WY</td>\n",
       "      <td>50000.0</td>\n",
       "      <td>51</td>\n",
       "      <td>2550000.0</td>\n",
       "      <td>459000.0</td>\n",
       "      <td>1.87</td>\n",
       "      <td>4769000.0</td>\n",
       "      <td>2012</td>\n",
       "    </tr>\n",
       "  </tbody>\n",
       "</table>\n",
       "<p>626 rows × 8 columns</p>\n",
       "</div>"
      ],
      "text/plain": [
       "    state    numcol  yieldpercol   totalprod      stocks  priceperlb  \\\n",
       "0      AL   16000.0           71   1136000.0    159000.0        0.72   \n",
       "1      AZ   55000.0           60   3300000.0   1485000.0        0.64   \n",
       "2      AR   53000.0           65   3445000.0   1688000.0        0.59   \n",
       "3      CA  450000.0           83  37350000.0  12326000.0        0.62   \n",
       "4      CO   27000.0           72   1944000.0   1594000.0        0.70   \n",
       "..    ...       ...          ...         ...         ...         ...   \n",
       "621    VA    4000.0           41    164000.0     23000.0        3.77   \n",
       "622    WA   62000.0           41   2542000.0   1017000.0        2.38   \n",
       "623    WV    6000.0           48    288000.0     95000.0        2.91   \n",
       "624    WI   60000.0           69   4140000.0   1863000.0        2.05   \n",
       "625    WY   50000.0           51   2550000.0    459000.0        1.87   \n",
       "\n",
       "      prodvalue  year  \n",
       "0      818000.0  1998  \n",
       "1     2112000.0  1998  \n",
       "2     2033000.0  1998  \n",
       "3    23157000.0  1998  \n",
       "4     1361000.0  1998  \n",
       "..          ...   ...  \n",
       "621    618000.0  2012  \n",
       "622   6050000.0  2012  \n",
       "623    838000.0  2012  \n",
       "624   8487000.0  2012  \n",
       "625   4769000.0  2012  \n",
       "\n",
       "[626 rows x 8 columns]"
      ]
     },
     "execution_count": 13,
     "metadata": {},
     "output_type": "execute_result"
    }
   ],
   "source": [
    "hp"
   ]
  },
  {
   "cell_type": "code",
   "execution_count": 14,
   "id": "5a842369-0ef0-4e4a-8538-442f88bb2e7a",
   "metadata": {},
   "outputs": [
    {
     "data": {
      "text/plain": [
       "Text(0, 0.5, 'Yield Per Coloney ')"
      ]
     },
     "execution_count": 14,
     "metadata": {},
     "output_type": "execute_result"
    },
    {
     "data": {
      "image/png": "[encoded data removed]",
      "text/plain": [
       "<Figure size 1800x576 with 1 Axes>"
      ]
     },
     "metadata": {
      "needs_background": "light"
     },
     "output_type": "display_data"
    }
   ],
   "source": [
    "# Visualising the trend of yeild per coloney from year 1998 to 2012\n",
    "plt.figure(figsize=(25,8))\n",
    "plt.plot(hp_year['year'],hp_year['yieldpercol'])\n",
    "plt.title('Trend of Honey Yield Per Coloney' , fontsize=25)\n",
    "plt.xlabel('Year',fontsize=25)\n",
    "plt.ylabel('Yield Per Coloney ', fontsize=25)"
   ]
  },
  {
   "cell_type": "code",
   "execution_count": 17,
   "id": "ca719281-5c87-4557-bc72-a1acff68dbf3",
   "metadata": {},
   "outputs": [
    {
     "data": {
      "text/plain": [
       "Text(0, 0.5, 'Total Honey Production(lbs.)')"
      ]
     },
     "execution_count": 17,
     "metadata": {},
     "output_type": "execute_result"
    },
    {
     "data": {
      "image/png": "[encoded data removed]",
      "text/plain": [
       "<Figure size 1800x576 with 1 Axes>"
      ]
     },
     "metadata": {
      "needs_background": "light"
     },
     "output_type": "display_data"
    }
   ],
   "source": [
    "# Visualising the total honey production from year 1998 to2012\n",
    "plt.figure(figsize=(25,8))\n",
    "plt.plot(hp_year['year'],hp_year['totalprod'])\n",
    "plt.title('Total Honey Production In UAS' ,fontsize=25)\n",
    "plt.xlabel('Year',fontsize=25)\n",
    "plt.ylabel('Total Honey Production(lbs.)', fontsize=25)"
   ]
  },
  {
   "cell_type": "code",
   "execution_count": 18,
   "id": "b1322d95-5069-45f4-913f-2c0224ee9dac",
   "metadata": {},
   "outputs": [
    {
     "data": {
      "text/html": [
       "<div>\n",
       "<style scoped>\n",
       "    .dataframe tbody tr th:only-of-type {\n",
       "        vertical-align: middle;\n",
       "    }\n",
       "\n",
       "    .dataframe tbody tr th {\n",
       "        vertical-align: top;\n",
       "    }\n",
       "\n",
       "    .dataframe thead th {\n",
       "        text-align: right;\n",
       "    }\n",
       "</style>\n",
       "<table border=\"1\" class=\"dataframe\">\n",
       "  <thead>\n",
       "    <tr style=\"text-align: right;\">\n",
       "      <th></th>\n",
       "      <th>state</th>\n",
       "      <th>totalprod</th>\n",
       "      <th>yieldpercol</th>\n",
       "    </tr>\n",
       "  </thead>\n",
       "  <tbody>\n",
       "    <tr>\n",
       "      <th>23</th>\n",
       "      <td>ND</td>\n",
       "      <td>475085000.0</td>\n",
       "      <td>1321</td>\n",
       "    </tr>\n",
       "    <tr>\n",
       "      <th>3</th>\n",
       "      <td>CA</td>\n",
       "      <td>347535000.0</td>\n",
       "      <td>837</td>\n",
       "    </tr>\n",
       "    <tr>\n",
       "      <th>34</th>\n",
       "      <td>SD</td>\n",
       "      <td>266141000.0</td>\n",
       "      <td>1137</td>\n",
       "    </tr>\n",
       "    <tr>\n",
       "      <th>5</th>\n",
       "      <td>FL</td>\n",
       "      <td>247048000.0</td>\n",
       "      <td>1246</td>\n",
       "    </tr>\n",
       "    <tr>\n",
       "      <th>21</th>\n",
       "      <td>MT</td>\n",
       "      <td>156562000.0</td>\n",
       "      <td>1160</td>\n",
       "    </tr>\n",
       "  </tbody>\n",
       "</table>\n",
       "</div>"
      ],
      "text/plain": [
       "   state    totalprod  yieldpercol\n",
       "23    ND  475085000.0         1321\n",
       "3     CA  347535000.0          837\n",
       "34    SD  266141000.0         1137\n",
       "5     FL  247048000.0         1246\n",
       "21    MT  156562000.0         1160"
      ]
     },
     "execution_count": 18,
     "metadata": {},
     "output_type": "execute_result"
    }
   ],
   "source": [
    "# Group the data by sets and using sum method to gety the total honey production value descending order.\n",
    "US_state = hp[['state','totalprod','yieldpercol']].groupby('state').sum()\n",
    "US_state.reset_index(level=0,inplace=True)\n",
    "US_state.sort_values(by='totalprod',ascending=False,inplace=True)\n",
    "US_state.head()"
   ]
  },
  {
   "cell_type": "code",
   "execution_count": 20,
   "id": "8cabb614-8d41-4508-9e5b-cb013a3c13c2",
   "metadata": {},
   "outputs": [
    {
     "data": {
      "text/plain": [
       "Text(0, 0.5, 'Total Production of Honey In UAS')"
      ]
     },
     "execution_count": 20,
     "metadata": {},
     "output_type": "execute_result"
    },
    {
     "data": {
      "image/png": "[encoded data removed]",
      "text/plain": [
       "<Figure size 1440x504 with 1 Axes>"
      ]
     },
     "metadata": {
      "needs_background": "light"
     },
     "output_type": "display_data"
    }
   ],
   "source": [
    "# Creating a Bar Chart to visualise the total honey production by states.\n",
    "plt.figure(figsize=(20,7))\n",
    "sns.barplot(x = US_state['state'],y = US_state['totalprod'])\n",
    "plt.title('State Wise Total Honey PRoduction In UAS',fontsize=20)\n",
    "plt.xlabel('States',fontsize=20)\n",
    "plt.ylabel('Total Production of Honey In UAS',fontsize=20)"
   ]
  },
  {
   "cell_type": "code",
   "execution_count": 22,
   "id": "2f953f63-eb98-4329-9c0b-ee9b06e3ec58",
   "metadata": {},
   "outputs": [
    {
     "data": {
      "text/html": [
       "<div>\n",
       "<style scoped>\n",
       "    .dataframe tbody tr th:only-of-type {\n",
       "        vertical-align: middle;\n",
       "    }\n",
       "\n",
       "    .dataframe tbody tr th {\n",
       "        vertical-align: top;\n",
       "    }\n",
       "\n",
       "    .dataframe thead th {\n",
       "        text-align: right;\n",
       "    }\n",
       "</style>\n",
       "<table border=\"1\" class=\"dataframe\">\n",
       "  <thead>\n",
       "    <tr style=\"text-align: right;\">\n",
       "      <th></th>\n",
       "      <th>State</th>\n",
       "      <th>Max Prod</th>\n",
       "    </tr>\n",
       "  </thead>\n",
       "  <tbody>\n",
       "    <tr>\n",
       "      <th>0</th>\n",
       "      <td>AL</td>\n",
       "      <td>1248000.0</td>\n",
       "    </tr>\n",
       "    <tr>\n",
       "      <th>1</th>\n",
       "      <td>AR</td>\n",
       "      <td>4900000.0</td>\n",
       "    </tr>\n",
       "    <tr>\n",
       "      <th>2</th>\n",
       "      <td>AZ</td>\n",
       "      <td>3300000.0</td>\n",
       "    </tr>\n",
       "    <tr>\n",
       "      <th>3</th>\n",
       "      <td>CA</td>\n",
       "      <td>37350000.0</td>\n",
       "    </tr>\n",
       "    <tr>\n",
       "      <th>4</th>\n",
       "      <td>CO</td>\n",
       "      <td>2700000.0</td>\n",
       "    </tr>\n",
       "  </tbody>\n",
       "</table>\n",
       "</div>"
      ],
      "text/plain": [
       "  State    Max Prod\n",
       "0    AL   1248000.0\n",
       "1    AR   4900000.0\n",
       "2    AZ   3300000.0\n",
       "3    CA  37350000.0\n",
       "4    CO   2700000.0"
      ]
     },
     "execution_count": 22,
     "metadata": {},
     "output_type": "execute_result"
    }
   ],
   "source": [
    "# Creatig a table to find out max production value from the states\n",
    "US_state_max = hp[['state','totalprod']].groupby('state').max()\n",
    "US_state_max.reset_index(level=0,inplace=True)\n",
    "US_state_max.columns = ['State','Max Prod']\n",
    "US_state_max.head()"
   ]
  },
  {
   "cell_type": "code",
   "execution_count": 24,
   "id": "e61c7648-63d6-4f26-b917-7cb01b96125b",
   "metadata": {},
   "outputs": [
    {
     "data": {
      "text/html": [
       "<div>\n",
       "<style scoped>\n",
       "    .dataframe tbody tr th:only-of-type {\n",
       "        vertical-align: middle;\n",
       "    }\n",
       "\n",
       "    .dataframe tbody tr th {\n",
       "        vertical-align: top;\n",
       "    }\n",
       "\n",
       "    .dataframe thead th {\n",
       "        text-align: right;\n",
       "    }\n",
       "</style>\n",
       "<table border=\"1\" class=\"dataframe\">\n",
       "  <thead>\n",
       "    <tr style=\"text-align: right;\">\n",
       "      <th></th>\n",
       "      <th>State</th>\n",
       "      <th>Min. Prod.</th>\n",
       "    </tr>\n",
       "  </thead>\n",
       "  <tbody>\n",
       "    <tr>\n",
       "      <th>0</th>\n",
       "      <td>AL</td>\n",
       "      <td>432000.0</td>\n",
       "    </tr>\n",
       "    <tr>\n",
       "      <th>1</th>\n",
       "      <td>AR</td>\n",
       "      <td>1368000.0</td>\n",
       "    </tr>\n",
       "    <tr>\n",
       "      <th>2</th>\n",
       "      <td>AZ</td>\n",
       "      <td>1012000.0</td>\n",
       "    </tr>\n",
       "    <tr>\n",
       "      <th>3</th>\n",
       "      <td>CA</td>\n",
       "      <td>11550000.0</td>\n",
       "    </tr>\n",
       "    <tr>\n",
       "      <th>4</th>\n",
       "      <td>CO</td>\n",
       "      <td>1200000.0</td>\n",
       "    </tr>\n",
       "  </tbody>\n",
       "</table>\n",
       "</div>"
      ],
      "text/plain": [
       "  State  Min. Prod.\n",
       "0    AL    432000.0\n",
       "1    AR   1368000.0\n",
       "2    AZ   1012000.0\n",
       "3    CA  11550000.0\n",
       "4    CO   1200000.0"
      ]
     },
     "execution_count": 24,
     "metadata": {},
     "output_type": "execute_result"
    }
   ],
   "source": [
    "# Creating a table to find out min prod.value from the state.\n",
    "US_state_min = hp[['state','totalprod']].groupby('state').min()\n",
    "US_state_min.reset_index(level=0,inplace=True)\n",
    "US_state_min.columns = ['State','Min. Prod.']\n",
    "US_state_min.head()"
   ]
  },
  {
   "cell_type": "code",
   "execution_count": 25,
   "id": "2ea5c5f9-4819-46dd-897c-75ed598cac56",
   "metadata": {},
   "outputs": [
    {
     "data": {
      "text/html": [
       "<div>\n",
       "<style scoped>\n",
       "    .dataframe tbody tr th:only-of-type {\n",
       "        vertical-align: middle;\n",
       "    }\n",
       "\n",
       "    .dataframe tbody tr th {\n",
       "        vertical-align: top;\n",
       "    }\n",
       "\n",
       "    .dataframe thead th {\n",
       "        text-align: right;\n",
       "    }\n",
       "</style>\n",
       "<table border=\"1\" class=\"dataframe\">\n",
       "  <thead>\n",
       "    <tr style=\"text-align: right;\">\n",
       "      <th></th>\n",
       "      <th>State</th>\n",
       "      <th>Max Prod</th>\n",
       "      <th>Min. Prod.</th>\n",
       "    </tr>\n",
       "  </thead>\n",
       "  <tbody>\n",
       "    <tr>\n",
       "      <th>0</th>\n",
       "      <td>AL</td>\n",
       "      <td>1248000.0</td>\n",
       "      <td>432000.0</td>\n",
       "    </tr>\n",
       "    <tr>\n",
       "      <th>1</th>\n",
       "      <td>AR</td>\n",
       "      <td>4900000.0</td>\n",
       "      <td>1368000.0</td>\n",
       "    </tr>\n",
       "    <tr>\n",
       "      <th>2</th>\n",
       "      <td>AZ</td>\n",
       "      <td>3300000.0</td>\n",
       "      <td>1012000.0</td>\n",
       "    </tr>\n",
       "    <tr>\n",
       "      <th>3</th>\n",
       "      <td>CA</td>\n",
       "      <td>37350000.0</td>\n",
       "      <td>11550000.0</td>\n",
       "    </tr>\n",
       "    <tr>\n",
       "      <th>4</th>\n",
       "      <td>CO</td>\n",
       "      <td>2700000.0</td>\n",
       "      <td>1200000.0</td>\n",
       "    </tr>\n",
       "  </tbody>\n",
       "</table>\n",
       "</div>"
      ],
      "text/plain": [
       "  State    Max Prod  Min. Prod.\n",
       "0    AL   1248000.0    432000.0\n",
       "1    AR   4900000.0   1368000.0\n",
       "2    AZ   3300000.0   1012000.0\n",
       "3    CA  37350000.0  11550000.0\n",
       "4    CO   2700000.0   1200000.0"
      ]
     },
     "execution_count": 25,
     "metadata": {},
     "output_type": "execute_result"
    }
   ],
   "source": [
    "# Merging the Max prod an Min Prod variable to find the range.\n",
    "st_range = pd.merge(US_state_max,US_state_min,how='inner',on='State')\n",
    "st_range.head()"
   ]
  },
  {
   "cell_type": "code",
   "execution_count": 27,
   "id": "a9cb21ca-8ef7-41f5-a503-1dce94f301a2",
   "metadata": {},
   "outputs": [
    {
     "data": {
      "text/html": [
       "<div>\n",
       "<style scoped>\n",
       "    .dataframe tbody tr th:only-of-type {\n",
       "        vertical-align: middle;\n",
       "    }\n",
       "\n",
       "    .dataframe tbody tr th {\n",
       "        vertical-align: top;\n",
       "    }\n",
       "\n",
       "    .dataframe thead th {\n",
       "        text-align: right;\n",
       "    }\n",
       "</style>\n",
       "<table border=\"1\" class=\"dataframe\">\n",
       "  <thead>\n",
       "    <tr style=\"text-align: right;\">\n",
       "      <th></th>\n",
       "      <th>State</th>\n",
       "      <th>Max Prod</th>\n",
       "      <th>Min. Prod.</th>\n",
       "      <th>Per_Change</th>\n",
       "    </tr>\n",
       "  </thead>\n",
       "  <tbody>\n",
       "    <tr>\n",
       "      <th>19</th>\n",
       "      <td>MO</td>\n",
       "      <td>1725000.0</td>\n",
       "      <td>344000.0</td>\n",
       "      <td>80.057971</td>\n",
       "    </tr>\n",
       "    <tr>\n",
       "      <th>26</th>\n",
       "      <td>NM</td>\n",
       "      <td>960000.0</td>\n",
       "      <td>246000.0</td>\n",
       "      <td>74.375000</td>\n",
       "    </tr>\n",
       "    <tr>\n",
       "      <th>16</th>\n",
       "      <td>ME</td>\n",
       "      <td>451000.0</td>\n",
       "      <td>120000.0</td>\n",
       "      <td>73.392461</td>\n",
       "    </tr>\n",
       "    <tr>\n",
       "      <th>15</th>\n",
       "      <td>MD</td>\n",
       "      <td>308000.0</td>\n",
       "      <td>84000.0</td>\n",
       "      <td>72.727273</td>\n",
       "    </tr>\n",
       "    <tr>\n",
       "      <th>12</th>\n",
       "      <td>KS</td>\n",
       "      <td>1120000.0</td>\n",
       "      <td>308000.0</td>\n",
       "      <td>72.500000</td>\n",
       "    </tr>\n",
       "  </tbody>\n",
       "</table>\n",
       "</div>"
      ],
      "text/plain": [
       "   State   Max Prod  Min. Prod.  Per_Change\n",
       "19    MO  1725000.0    344000.0   80.057971\n",
       "26    NM   960000.0    246000.0   74.375000\n",
       "16    ME   451000.0    120000.0   73.392461\n",
       "15    MD   308000.0     84000.0   72.727273\n",
       "12    KS  1120000.0    308000.0   72.500000"
      ]
     },
     "execution_count": 27,
     "metadata": {},
     "output_type": "execute_result"
    }
   ],
   "source": [
    "# Creating a Per change column in the st_range dataset to understand honey production changes by states.\n",
    "st_range['Per_Change'] = ((st_range['Max Prod'] - st_range['Min. Prod.'])/st_range['Max Prod'])*100\n",
    "st_range.sort_values(by = 'Per_Change',ascending=False,inplace=True)\n",
    "st_range.head()"
   ]
  },
  {
   "cell_type": "code",
   "execution_count": 29,
   "id": "179c48c7-881b-4cff-9488-96ed4de09010",
   "metadata": {},
   "outputs": [
    {
     "data": {
      "text/plain": [
       "Text(0, 0.5, '% Deccline')"
      ]
     },
     "execution_count": 29,
     "metadata": {},
     "output_type": "execute_result"
    },
    {
     "data": {
      "image/png": "[encoded data removed]",
      "text/plain": [
       "<Figure size 1440x504 with 1 Axes>"
      ]
     },
     "metadata": {
      "needs_background": "light"
     },
     "output_type": "display_data"
    }
   ],
   "source": [
    "# Creating a bar chart to visualise the statewise decline trend.\n",
    "plt.figure(figsize=(20,7))\n",
    "sns.barplot(x = 'State', y = 'Per_Change',data = st_range)\n",
    "plt.title('Statewise Production Decline Trend', fontsize=20)\n",
    "plt.xlabel('State',fontsize=15)\n",
    "plt.ylabel('% Deccline',fontsize=15)"
   ]
  },
  {
   "cell_type": "code",
   "execution_count": 31,
   "id": "e56e11a5-49f0-4ccf-9986-bcaf140b7d7a",
   "metadata": {},
   "outputs": [
    {
     "data": {
      "text/html": [
       "<div>\n",
       "<style scoped>\n",
       "    .dataframe tbody tr th:only-of-type {\n",
       "        vertical-align: middle;\n",
       "    }\n",
       "\n",
       "    .dataframe tbody tr th {\n",
       "        vertical-align: top;\n",
       "    }\n",
       "\n",
       "    .dataframe thead th {\n",
       "        text-align: right;\n",
       "    }\n",
       "</style>\n",
       "<table border=\"1\" class=\"dataframe\">\n",
       "  <thead>\n",
       "    <tr style=\"text-align: right;\">\n",
       "      <th></th>\n",
       "      <th>numcol</th>\n",
       "      <th>totalprod</th>\n",
       "      <th>year</th>\n",
       "      <th>yieldpercol</th>\n",
       "      <th>stocks</th>\n",
       "      <th>prodvalue</th>\n",
       "    </tr>\n",
       "  </thead>\n",
       "  <tbody>\n",
       "    <tr>\n",
       "      <th>numcol</th>\n",
       "      <td>1.000000</td>\n",
       "      <td>0.953594</td>\n",
       "      <td>0.008709</td>\n",
       "      <td>0.243515</td>\n",
       "      <td>0.825929</td>\n",
       "      <td>0.912796</td>\n",
       "    </tr>\n",
       "    <tr>\n",
       "      <th>totalprod</th>\n",
       "      <td>0.953594</td>\n",
       "      <td>1.000000</td>\n",
       "      <td>-0.055556</td>\n",
       "      <td>0.396252</td>\n",
       "      <td>0.878830</td>\n",
       "      <td>0.907236</td>\n",
       "    </tr>\n",
       "    <tr>\n",
       "      <th>year</th>\n",
       "      <td>0.008709</td>\n",
       "      <td>-0.055556</td>\n",
       "      <td>1.000000</td>\n",
       "      <td>-0.232092</td>\n",
       "      <td>-0.119602</td>\n",
       "      <td>0.139451</td>\n",
       "    </tr>\n",
       "    <tr>\n",
       "      <th>yieldpercol</th>\n",
       "      <td>0.243515</td>\n",
       "      <td>0.396252</td>\n",
       "      <td>-0.232092</td>\n",
       "      <td>1.000000</td>\n",
       "      <td>0.367812</td>\n",
       "      <td>0.278977</td>\n",
       "    </tr>\n",
       "    <tr>\n",
       "      <th>stocks</th>\n",
       "      <td>0.825929</td>\n",
       "      <td>0.878830</td>\n",
       "      <td>-0.119602</td>\n",
       "      <td>0.367812</td>\n",
       "      <td>1.000000</td>\n",
       "      <td>0.728560</td>\n",
       "    </tr>\n",
       "    <tr>\n",
       "      <th>prodvalue</th>\n",
       "      <td>0.912796</td>\n",
       "      <td>0.907236</td>\n",
       "      <td>0.139451</td>\n",
       "      <td>0.278977</td>\n",
       "      <td>0.728560</td>\n",
       "      <td>1.000000</td>\n",
       "    </tr>\n",
       "  </tbody>\n",
       "</table>\n",
       "</div>"
      ],
      "text/plain": [
       "               numcol  totalprod      year  yieldpercol    stocks  prodvalue\n",
       "numcol       1.000000   0.953594  0.008709     0.243515  0.825929   0.912796\n",
       "totalprod    0.953594   1.000000 -0.055556     0.396252  0.878830   0.907236\n",
       "year         0.008709  -0.055556  1.000000    -0.232092 -0.119602   0.139451\n",
       "yieldpercol  0.243515   0.396252 -0.232092     1.000000  0.367812   0.278977\n",
       "stocks       0.825929   0.878830 -0.119602     0.367812  1.000000   0.728560\n",
       "prodvalue    0.912796   0.907236  0.139451     0.278977  0.728560   1.000000"
      ]
     },
     "execution_count": 31,
     "metadata": {},
     "output_type": "execute_result"
    }
   ],
   "source": [
    "# Checking the correlation between variables\n",
    "honey_corr = hp[['numcol','totalprod','year','yieldpercol','stocks','prodvalue']].corr()\n",
    "honey_corr"
   ]
  },
  {
   "cell_type": "code",
   "execution_count": 33,
   "id": "33391d50-516c-46b8-be8a-0a1c39212889",
   "metadata": {},
   "outputs": [
    {
     "data": {
      "image/png": "[encoded data removed]",
      "text/plain": [
       "<Figure size 432x288 with 2 Axes>"
      ]
     },
     "metadata": {
      "needs_background": "light"
     },
     "output_type": "display_data"
    }
   ],
   "source": [
    "# Visualising the same in Heatmap()\n",
    "sns.heatmap(honey_corr,annot = True,vmin=-1,vmax=1,cmap='PiYG')\n",
    "plt.show()"
   ]
  },
  {
   "cell_type": "code",
   "execution_count": 34,
   "id": "cb99df82-cdce-4221-aec5-edecf18c3ed4",
   "metadata": {},
   "outputs": [
    {
     "data": {
      "image/png": "[encoded data removed]",
      "text/plain": [
       "<Figure size 421.5x360 with 1 Axes>"
      ]
     },
     "metadata": {
      "needs_background": "light"
     },
     "output_type": "display_data"
    }
   ],
   "source": [
    "# Checking hypothesis: \"More the number of coloneies, higher the production value\"\n",
    "sns.lmplot(x = 'numcol', y = 'prodvalue',data = hp, hue = 'year')\n",
    "plt.show()"
   ]
  },
  {
   "cell_type": "code",
   "execution_count": 35,
   "id": "2eab2bc8-e205-4994-bcdb-4fc58e475271",
   "metadata": {},
   "outputs": [],
   "source": [
    "from sklearn.linear_model import LinearRegression\n",
    "from sklearn.model_selection import train_test_split"
   ]
  },
  {
   "cell_type": "code",
   "execution_count": 40,
   "id": "d032a436-f33f-43c5-abd6-e4c2abf30c43",
   "metadata": {},
   "outputs": [
    {
     "data": {
      "text/plain": [
       "LinearRegression()"
      ]
     },
     "execution_count": 40,
     "metadata": {},
     "output_type": "execute_result"
    }
   ],
   "source": [
    "x_train,x_test,y_train,y_test = train_test_split(hp.drop(['totalprod','state'],axis=1),hp['totalprod'],test_size=0.20,\n",
    "                                                 random_state=8)\n",
    "model = LinearRegression()\n",
    "model.fit(x_train,y_train)"
   ]
  },
  {
   "cell_type": "code",
   "execution_count": 42,
   "id": "1d251089-0a7b-4a11-ab40-bfc29419ab7d",
   "metadata": {},
   "outputs": [
    {
     "name": "stdout",
     "output_type": "stream",
     "text": [
      "95.25114307242252 %\n"
     ]
    }
   ],
   "source": [
    "accuracy = model.score(x_test,y_test)\n",
    "print(accuracy*100,'%')"
   ]
  },
  {
   "cell_type": "markdown",
   "id": "5d108ac1-d76d-4d40-981b-c7a723f1b214",
   "metadata": {},
   "source": [
    "---"
   ]
  }
 ],
 "metadata": {
  "kernelspec": {
   "display_name": "Python 3",
   "language": "python",
   "name": "python3"
  },
  "language_info": {
   "codemirror_mode": {
    "name": "ipython",
    "version": 3
   },
   "file_extension": ".py",
   "mimetype": "text/x-python",
   "name": "python",
   "nbconvert_exporter": "python",
   "pygments_lexer": "ipython3",
   "version": "3.8.8"
  }
 },
 "nbformat": 4,
 "nbformat_minor": 5
}
